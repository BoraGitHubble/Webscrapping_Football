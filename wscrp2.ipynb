{
 "cells": [
  {
   "cell_type": "code",
   "execution_count": 3,
   "id": "472a8d69",
   "metadata": {},
   "outputs": [
    {
     "name": "stdout",
     "output_type": "stream",
     "text": [
      "Requirement already satisfied: selenium in c:\\users\\gebruiker\\.conda\\envs\\new_environmentjose\\lib\\site-packages (4.9.1)\n",
      "Requirement already satisfied: urllib3[socks]<3,>=1.26 in c:\\users\\gebruiker\\.conda\\envs\\new_environmentjose\\lib\\site-packages (from selenium) (1.26.15)\n",
      "Requirement already satisfied: trio~=0.17 in c:\\users\\gebruiker\\.conda\\envs\\new_environmentjose\\lib\\site-packages (from selenium) (0.22.0)\n",
      "Requirement already satisfied: trio-websocket~=0.9 in c:\\users\\gebruiker\\.conda\\envs\\new_environmentjose\\lib\\site-packages (from selenium) (0.10.2)\n",
      "Requirement already satisfied: certifi>=2021.10.8 in c:\\users\\gebruiker\\.conda\\envs\\new_environmentjose\\lib\\site-packages (from selenium) (2023.5.7)\n",
      "Requirement already satisfied: attrs>=19.2.0 in c:\\users\\gebruiker\\.conda\\envs\\new_environmentjose\\lib\\site-packages (from trio~=0.17->selenium) (22.1.0)\n",
      "Requirement already satisfied: sortedcontainers in c:\\users\\gebruiker\\.conda\\envs\\new_environmentjose\\lib\\site-packages (from trio~=0.17->selenium) (2.4.0)\n",
      "Requirement already satisfied: async-generator>=1.9 in c:\\users\\gebruiker\\.conda\\envs\\new_environmentjose\\lib\\site-packages (from trio~=0.17->selenium) (1.10)\n",
      "Requirement already satisfied: idna in c:\\users\\gebruiker\\.conda\\envs\\new_environmentjose\\lib\\site-packages (from trio~=0.17->selenium) (3.4)\n",
      "Requirement already satisfied: outcome in c:\\users\\gebruiker\\.conda\\envs\\new_environmentjose\\lib\\site-packages (from trio~=0.17->selenium) (1.2.0)\n",
      "Requirement already satisfied: sniffio in c:\\users\\gebruiker\\.conda\\envs\\new_environmentjose\\lib\\site-packages (from trio~=0.17->selenium) (1.2.0)\n",
      "Requirement already satisfied: cffi>=1.14 in c:\\users\\gebruiker\\.conda\\envs\\new_environmentjose\\lib\\site-packages (from trio~=0.17->selenium) (1.15.1)\n",
      "Requirement already satisfied: exceptiongroup in c:\\users\\gebruiker\\.conda\\envs\\new_environmentjose\\lib\\site-packages (from trio-websocket~=0.9->selenium) (1.1.1)\n",
      "Requirement already satisfied: wsproto>=0.14 in c:\\users\\gebruiker\\.conda\\envs\\new_environmentjose\\lib\\site-packages (from trio-websocket~=0.9->selenium) (1.2.0)\n",
      "Requirement already satisfied: PySocks!=1.5.7,<2.0,>=1.5.6 in c:\\users\\gebruiker\\.conda\\envs\\new_environmentjose\\lib\\site-packages (from urllib3[socks]<3,>=1.26->selenium) (1.7.1)\n",
      "Requirement already satisfied: pycparser in c:\\users\\gebruiker\\.conda\\envs\\new_environmentjose\\lib\\site-packages (from cffi>=1.14->trio~=0.17->selenium) (2.21)\n",
      "Requirement already satisfied: h11<1,>=0.9.0 in c:\\users\\gebruiker\\.conda\\envs\\new_environmentjose\\lib\\site-packages (from wsproto>=0.14->trio-websocket~=0.9->selenium) (0.14.0)\n",
      "Requirement already satisfied: pandas in c:\\users\\gebruiker\\.conda\\envs\\new_environmentjose\\lib\\site-packages (2.0.2)\n",
      "Requirement already satisfied: python-dateutil>=2.8.2 in c:\\users\\gebruiker\\.conda\\envs\\new_environmentjose\\lib\\site-packages (from pandas) (2.8.2)\n",
      "Requirement already satisfied: pytz>=2020.1 in c:\\users\\gebruiker\\.conda\\envs\\new_environmentjose\\lib\\site-packages (from pandas) (2022.7)\n",
      "Requirement already satisfied: tzdata>=2022.1 in c:\\users\\gebruiker\\.conda\\envs\\new_environmentjose\\lib\\site-packages (from pandas) (2023.3)\n",
      "Requirement already satisfied: numpy>=1.21.0 in c:\\users\\gebruiker\\.conda\\envs\\new_environmentjose\\lib\\site-packages (from pandas) (1.24.3)\n",
      "Requirement already satisfied: six>=1.5 in c:\\users\\gebruiker\\.conda\\envs\\new_environmentjose\\lib\\site-packages (from python-dateutil>=2.8.2->pandas) (1.16.0)\n"
     ]
    },
    {
     "ename": "WebDriverException",
     "evalue": "Message: unknown error: net::ERR_CONNECTION_RESET\n  (Session info: chrome=113.0.5672.127)\nStacktrace:\nBacktrace:\n\tGetHandleVerifier [0x00BC8893+48451]\n\t(No symbol) [0x00B5B8A1]\n\t(No symbol) [0x00A65058]\n\t(No symbol) [0x00A61843]\n\t(No symbol) [0x00A58AC5]\n\t(No symbol) [0x00A59B2A]\n\t(No symbol) [0x00A58E23]\n\t(No symbol) [0x00A58175]\n\t(No symbol) [0x00A5810C]\n\t(No symbol) [0x00A56D46]\n\t(No symbol) [0x00A574A8]\n\t(No symbol) [0x00A667F2]\n\t(No symbol) [0x00ABCA61]\n\t(No symbol) [0x00AAA2BC]\n\t(No symbol) [0x00ABC482]\n\t(No symbol) [0x00AAA0B6]\n\t(No symbol) [0x00A87E08]\n\t(No symbol) [0x00A88F2D]\n\tGetHandleVerifier [0x00E28E3A+2540266]\n\tGetHandleVerifier [0x00E68959+2801161]\n\tGetHandleVerifier [0x00E6295C+2776588]\n\tGetHandleVerifier [0x00C52280+612144]\n\t(No symbol) [0x00B64F6C]\n\t(No symbol) [0x00B611D8]\n\t(No symbol) [0x00B612BB]\n\t(No symbol) [0x00B54857]\n\tBaseThreadInitThunk [0x75EC7D59+25]\n\tRtlInitializeExceptionChain [0x7753B74B+107]\n\tRtlClearBits [0x7753B6CF+191]\n",
     "output_type": "error",
     "traceback": [
      "\u001b[1;31m---------------------------------------------------------------------------\u001b[0m",
      "\u001b[1;31mWebDriverException\u001b[0m                        Traceback (most recent call last)",
      "Cell \u001b[1;32mIn[3], line 15\u001b[0m\n\u001b[0;32m     13\u001b[0m \u001b[38;5;66;03m# this code opens the web site\u001b[39;00m\n\u001b[0;32m     14\u001b[0m driver \u001b[38;5;241m=\u001b[39m webdriver\u001b[38;5;241m.\u001b[39mChrome(service\u001b[38;5;241m=\u001b[39mService(path))\n\u001b[1;32m---> 15\u001b[0m driver\u001b[38;5;241m.\u001b[39mget(website)\n\u001b[0;32m     17\u001b[0m \u001b[38;5;66;03m# this code clicks the button\u001b[39;00m\n\u001b[0;32m     18\u001b[0m all_matches_button \u001b[38;5;241m=\u001b[39m driver\u001b[38;5;241m.\u001b[39mfind_element(By\u001b[38;5;241m.\u001b[39mXPATH,\u001b[38;5;124m'\u001b[39m\u001b[38;5;124m//label[@analytics-event=\u001b[39m\u001b[38;5;124m\"\u001b[39m\u001b[38;5;124mAll matches\u001b[39m\u001b[38;5;124m\"\u001b[39m\u001b[38;5;124m]\u001b[39m\u001b[38;5;124m'\u001b[39m)\n",
      "File \u001b[1;32m~\\.conda\\envs\\new_environmentJose\\Lib\\site-packages\\selenium\\webdriver\\remote\\webdriver.py:449\u001b[0m, in \u001b[0;36mWebDriver.get\u001b[1;34m(self, url)\u001b[0m\n\u001b[0;32m    447\u001b[0m \u001b[38;5;28;01mdef\u001b[39;00m \u001b[38;5;21mget\u001b[39m(\u001b[38;5;28mself\u001b[39m, url: \u001b[38;5;28mstr\u001b[39m) \u001b[38;5;241m-\u001b[39m\u001b[38;5;241m>\u001b[39m \u001b[38;5;28;01mNone\u001b[39;00m:\n\u001b[0;32m    448\u001b[0m     \u001b[38;5;124;03m\"\"\"Loads a web page in the current browser session.\"\"\"\u001b[39;00m\n\u001b[1;32m--> 449\u001b[0m     \u001b[38;5;28mself\u001b[39m\u001b[38;5;241m.\u001b[39mexecute(Command\u001b[38;5;241m.\u001b[39mGET, {\u001b[38;5;124m\"\u001b[39m\u001b[38;5;124murl\u001b[39m\u001b[38;5;124m\"\u001b[39m: url})\n",
      "File \u001b[1;32m~\\.conda\\envs\\new_environmentJose\\Lib\\site-packages\\selenium\\webdriver\\remote\\webdriver.py:440\u001b[0m, in \u001b[0;36mWebDriver.execute\u001b[1;34m(self, driver_command, params)\u001b[0m\n\u001b[0;32m    438\u001b[0m response \u001b[38;5;241m=\u001b[39m \u001b[38;5;28mself\u001b[39m\u001b[38;5;241m.\u001b[39mcommand_executor\u001b[38;5;241m.\u001b[39mexecute(driver_command, params)\n\u001b[0;32m    439\u001b[0m \u001b[38;5;28;01mif\u001b[39;00m response:\n\u001b[1;32m--> 440\u001b[0m     \u001b[38;5;28mself\u001b[39m\u001b[38;5;241m.\u001b[39merror_handler\u001b[38;5;241m.\u001b[39mcheck_response(response)\n\u001b[0;32m    441\u001b[0m     response[\u001b[38;5;124m\"\u001b[39m\u001b[38;5;124mvalue\u001b[39m\u001b[38;5;124m\"\u001b[39m] \u001b[38;5;241m=\u001b[39m \u001b[38;5;28mself\u001b[39m\u001b[38;5;241m.\u001b[39m_unwrap_value(response\u001b[38;5;241m.\u001b[39mget(\u001b[38;5;124m\"\u001b[39m\u001b[38;5;124mvalue\u001b[39m\u001b[38;5;124m\"\u001b[39m, \u001b[38;5;28;01mNone\u001b[39;00m))\n\u001b[0;32m    442\u001b[0m     \u001b[38;5;28;01mreturn\u001b[39;00m response\n",
      "File \u001b[1;32m~\\.conda\\envs\\new_environmentJose\\Lib\\site-packages\\selenium\\webdriver\\remote\\errorhandler.py:245\u001b[0m, in \u001b[0;36mErrorHandler.check_response\u001b[1;34m(self, response)\u001b[0m\n\u001b[0;32m    243\u001b[0m         alert_text \u001b[38;5;241m=\u001b[39m value[\u001b[38;5;124m\"\u001b[39m\u001b[38;5;124malert\u001b[39m\u001b[38;5;124m\"\u001b[39m]\u001b[38;5;241m.\u001b[39mget(\u001b[38;5;124m\"\u001b[39m\u001b[38;5;124mtext\u001b[39m\u001b[38;5;124m\"\u001b[39m)\n\u001b[0;32m    244\u001b[0m     \u001b[38;5;28;01mraise\u001b[39;00m exception_class(message, screen, stacktrace, alert_text)  \u001b[38;5;66;03m# type: ignore[call-arg]  # mypy is not smart enough here\u001b[39;00m\n\u001b[1;32m--> 245\u001b[0m \u001b[38;5;28;01mraise\u001b[39;00m exception_class(message, screen, stacktrace)\n",
      "\u001b[1;31mWebDriverException\u001b[0m: Message: unknown error: net::ERR_CONNECTION_RESET\n  (Session info: chrome=113.0.5672.127)\nStacktrace:\nBacktrace:\n\tGetHandleVerifier [0x00BC8893+48451]\n\t(No symbol) [0x00B5B8A1]\n\t(No symbol) [0x00A65058]\n\t(No symbol) [0x00A61843]\n\t(No symbol) [0x00A58AC5]\n\t(No symbol) [0x00A59B2A]\n\t(No symbol) [0x00A58E23]\n\t(No symbol) [0x00A58175]\n\t(No symbol) [0x00A5810C]\n\t(No symbol) [0x00A56D46]\n\t(No symbol) [0x00A574A8]\n\t(No symbol) [0x00A667F2]\n\t(No symbol) [0x00ABCA61]\n\t(No symbol) [0x00AAA2BC]\n\t(No symbol) [0x00ABC482]\n\t(No symbol) [0x00AAA0B6]\n\t(No symbol) [0x00A87E08]\n\t(No symbol) [0x00A88F2D]\n\tGetHandleVerifier [0x00E28E3A+2540266]\n\tGetHandleVerifier [0x00E68959+2801161]\n\tGetHandleVerifier [0x00E6295C+2776588]\n\tGetHandleVerifier [0x00C52280+612144]\n\t(No symbol) [0x00B64F6C]\n\t(No symbol) [0x00B611D8]\n\t(No symbol) [0x00B612BB]\n\t(No symbol) [0x00B54857]\n\tBaseThreadInitThunk [0x75EC7D59+25]\n\tRtlInitializeExceptionChain [0x7753B74B+107]\n\tRtlClearBits [0x7753B6CF+191]\n"
     ]
    }
   ],
   "source": [
    "!pip install selenium\n",
    "!pip install pandas\n",
    "from selenium.webdriver.common.by import By\n",
    "from selenium.webdriver.chrome.service import Service\n",
    "from selenium import webdriver\n",
    "import pandas as pd\n",
    "from selenium.webdriver.support.ui import Select\n",
    "import time\n",
    "\n",
    "website = 'https://www.adamchoi.co.uk/overs/detailed'\n",
    "path = 'C:/Users/Gebruiker/Downloads/chromedriver_win32/chromedriver.exe'\n",
    "\n",
    "# this code opens the web site\n",
    "driver = webdriver.Chrome(service=Service(path))\n",
    "driver.get(website)\n",
    "\n",
    "# this code clicks the button\n",
    "all_matches_button = driver.find_element(By.XPATH,'//label[@analytics-event=\"All matches\"]')\n",
    "all_matches_button.click()\n",
    "#time.sleep(10)\n",
    "\n",
    "#selecting elements within a dropdown a dynamic web page (like changing England to Germany)\n",
    "dropdown = Select(driver.find_element(By.ID,'country'))\n",
    "dropdown.select_by_visible_text('Spain')\n",
    "\n",
    "time.sleep(3)\n",
    "\n",
    "\n",
    "\n",
    "#this code extract the data in one variable\n",
    "matches = driver.find_elements(By.TAG_NAME,'tr')\n",
    "#for match in matches:\n",
    "    #print(match.text)\n",
    "\n",
    "#store data in every column seperately\n",
    "date = []\n",
    "home_team = []\n",
    "score = []\n",
    "away_team = []\n",
    "\n",
    "for match in matches:\n",
    "    date.append(match.find_element(By.XPATH,'./td[1]').text)\n",
    "    home = match.find_element(By.XPATH, './td[2]').text\n",
    "    home_team.append(home)\n",
    "    #print(home)\n",
    "    score.append(match.find_element(By.XPATH, './td[3]').text)\n",
    "    away_team.append(match.find_element(By.XPATH, './td[4]').text)\n",
    "\n",
    "#store all this data into dataframe\n",
    "\n",
    "driver.quit()\n",
    "\n",
    "df = pd.DataFrame({'date': date, 'home_team': home_team, 'score': score, 'away_team': away_team})\n",
    "df.to_csv('football_data.csv', index=False)\n",
    "print(df)"
   ]
  },
  {
   "cell_type": "code",
   "execution_count": null,
   "id": "d5334ba9",
   "metadata": {},
   "outputs": [],
   "source": []
  }
 ],
 "metadata": {
  "kernelspec": {
   "display_name": "Python 3 (ipykernel)",
   "language": "python",
   "name": "python3"
  },
  "language_info": {
   "codemirror_mode": {
    "name": "ipython",
    "version": 3
   },
   "file_extension": ".py",
   "mimetype": "text/x-python",
   "name": "python",
   "nbconvert_exporter": "python",
   "pygments_lexer": "ipython3",
   "version": "3.11.3"
  }
 },
 "nbformat": 4,
 "nbformat_minor": 5
}
